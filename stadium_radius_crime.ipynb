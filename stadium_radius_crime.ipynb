{
 "cells": [
  {
   "cell_type": "code",
   "execution_count": 1,
   "metadata": {},
   "outputs": [],
   "source": [
    "import pandas as pd"
   ]
  },
  {
   "attachments": {},
   "cell_type": "markdown",
   "metadata": {},
   "source": [
    "# Scrape and save the table from wikipedia"
   ]
  },
  {
   "cell_type": "code",
   "execution_count": null,
   "metadata": {},
   "outputs": [],
   "source": [
    "import requests\n",
    "from bs4 import BeautifulSoup\n",
    "\n",
    "# URL of the Wikipedia page\n",
    "url = 'https://en.wikipedia.org/wiki/List_of_stadiums_in_the_United_Kingdom_by_capacity'\n",
    "\n",
    "response = requests.get(url)\n",
    "soup = BeautifulSoup(response.content, 'html.parser')\n",
    "\n",
    "table = soup.find('table', {'class': 'wikitable'})\n",
    "\n",
    "df = pd.read_html(str(table))[0]"
   ]
  },
  {
   "attachments": {},
   "cell_type": "markdown",
   "metadata": {},
   "source": [
    "# Get the Geo-codes for each stadium\n",
    "- I used a google sheets tool and validated it"
   ]
  },
  {
   "cell_type": "code",
   "execution_count": 9,
   "metadata": {},
   "outputs": [],
   "source": [
    "geo_df = pd.read_csv('/Users/kyle/syp-crime-py/scraping/wiki-stadiums-geocode.csv')"
   ]
  },
  {
   "attachments": {},
   "cell_type": "markdown",
   "metadata": {},
   "source": [
    "## clean the data\n"
   ]
  },
  {
   "cell_type": "code",
   "execution_count": 11,
   "metadata": {},
   "outputs": [],
   "source": [
    "# Drop the 'Unnamed: 0' and 'Image' columns\n",
    "geo_df = geo_df.drop(columns=['Unnamed: 0', 'Image'])"
   ]
  },
  {
   "attachments": {},
   "cell_type": "markdown",
   "metadata": {},
   "source": [
    "# Upload the complete crime data"
   ]
  },
  {
   "cell_type": "code",
   "execution_count": 3,
   "metadata": {},
   "outputs": [],
   "source": [
    "crime_data = pd.read_csv('/Users/kyle/syp-crime-py/uk_street_crimes_data_2020_2023.csv')"
   ]
  },
  {
   "cell_type": "code",
   "execution_count": 7,
   "metadata": {},
   "outputs": [
    {
     "data": {
      "text/plain": [
       "19269992"
      ]
     },
     "execution_count": 7,
     "metadata": {},
     "output_type": "execute_result"
    }
   ],
   "source": [
    "len(crime_data)"
   ]
  },
  {
   "attachments": {},
   "cell_type": "markdown",
   "metadata": {},
   "source": [
    "# Function I used to create a filter which matched closest stadium in the main dataset\n",
    "- once I matched sports area crimes, to closest stadium, I created a dictionary to collect the stadium lsoa names"
   ]
  },
  {
   "cell_type": "code",
   "execution_count": null,
   "metadata": {},
   "outputs": [],
   "source": [
    "\n",
    "def match_stadium_to_lsoa(data):\n",
    "    # Create a dictionary to store the mapping\n",
    "    stadium_lsoa_mapping = {}\n",
    "    \n",
    "    for index, row in data.iterrows():\n",
    "        stadium = row['Closest Stadium']\n",
    "        lsoa_name = row['LSOA name']\n",
    "        \n",
    "        # Update the mapping\n",
    "        stadium_lsoa_mapping[stadium] = lsoa_name\n",
    "    \n",
    "    return stadium_lsoa_mapping\n",
    "\n",
    "# Apply the function\n",
    "# mapping = match_stadium_to_lsoa(merged_df)\n",
    "\n",
    "# Convert the dictionary to a DataFrame\n",
    "# df_mapping = pd.DataFrame(list(mapping.items()), columns=['Stadium', 'LSOA Name'])\n",
    "\n",
    "# Save the DataFrame to a CSV file\n",
    "# df_mapping.to_csv('stadium_lsoa_mapping.csv', index=False)"
   ]
  },
  {
   "attachments": {},
   "cell_type": "markdown",
   "metadata": {},
   "source": [
    "# Fitler the dataset by LSOA where stadiums are\n",
    "## We will use the last method as a filter"
   ]
  },
  {
   "cell_type": "code",
   "execution_count": 4,
   "metadata": {},
   "outputs": [],
   "source": [
    "# Load the stadium_lsoa_mapping.csv into a DataFrame\n",
    "stadium_lsoa_df = pd.read_csv('/Users/kyle/syp-crime-py/stadium_lsoa_mapping.csv')\n",
    "\n",
    "# Extract the LSOA names from the stadium_lsoa_df\n",
    "lsoa_list = stadium_lsoa_df['LSOA Name'].tolist()\n",
    "\n",
    "# Filter the crime dataset based on the months and LSOA names\n",
    "filtered_df = crime_data[crime_data['LSOA name'].isin(lsoa_list)]\n",
    "\n",
    "# Save the filtered dataset to a new CSV file\n",
    "filtered_df.to_csv('all_crime_in_stadium_lsoa_data.csv', index=False)"
   ]
  },
  {
   "cell_type": "code",
   "execution_count": 15,
   "metadata": {},
   "outputs": [
    {
     "data": {
      "text/plain": [
       "150947"
      ]
     },
     "execution_count": 15,
     "metadata": {},
     "output_type": "execute_result"
    }
   ],
   "source": [
    "len(filtered_df)"
   ]
  },
  {
   "attachments": {},
   "cell_type": "markdown",
   "metadata": {},
   "source": [
    "# Find all crimes within a radius of the Stadiums"
   ]
  },
  {
   "cell_type": "code",
   "execution_count": 16,
   "metadata": {},
   "outputs": [],
   "source": [
    "import pandas as pd\n",
    "import numpy as np\n",
    "\n",
    "def haversine(lon1, lat1, lon2, lat2):\n",
    "    \"\"\"\n",
    "    Calculate the great circle distance between two points \n",
    "    on the earth (specified in decimal degrees)\n",
    "    \"\"\"\n",
    "    # Convert decimal degrees to radians \n",
    "    lon1, lat1, lon2, lat2 = map(np.radians, [lon1, lat1, lon2, lat2])\n",
    "\n",
    "    # Haversine formula \n",
    "    dlon = lon2 - lon1 \n",
    "    dlat = lat2 - lat1 \n",
    "    a = np.sin(dlat/2)**2 + np.cos(lat1) * np.cos(lat2) * np.sin(dlon/2)**2\n",
    "    c = 2 * np.arctan2(np.sqrt(a), np.sqrt(1-a)) \n",
    "    r = 6371 # Radius of earth in kilometers. Use 3956 for miles. Determines return value units.\n",
    "    return c * r\n",
    "\n",
    "def closest_stadium(row, stadiums_df, max_distance_km):\n",
    "    distances = stadiums_df.apply(lambda stadium: haversine(row['Longitude'], row['Latitude'], stadium['Longitude'], stadium['Latitude']), axis=1)\n",
    "    closest_stadium_index = distances.idxmin()\n",
    "    if distances[closest_stadium_index] <= max_distance_km:\n",
    "        return stadiums_df.iloc[closest_stadium_index]['Stadium']\n",
    "    else:\n",
    "        return np.nan\n",
    "\n",
    "# For 1 kilometer\n",
    "filtered_1km_df = filtered_df.copy()\n",
    "filtered_1km_df['Closest Stadium'] = filtered_1km_df.apply(lambda row: closest_stadium(row, geo_df, 1), axis=1)\n",
    "filtered_1km_df.to_csv('lsoa_stadiums_1km_filled_gaps.csv', index=False)\n",
    "\n",
    "# For 1 mile (approximately 1.60934 kilometers)\n",
    "filtered_1mile_df = filtered_df.copy()\n",
    "filtered_1mile_df['Closest Stadium'] = filtered_1mile_df.apply(lambda row: closest_stadium(row, geo_df, 1.60934), axis=1)\n",
    "filtered_1mile_df.to_csv('lsoa_stadiums_1mile_filled_gaps.csv', index=False)\n",
    "\n",
    "# For 2 miles (approximately 3.21869 kilometers)\n",
    "filtered_2miles_df = filtered_df.copy()\n",
    "filtered_2miles_df['Closest Stadium'] = filtered_2miles_df.apply(lambda row: closest_stadium(row, geo_df, 3.21869), axis=1)\n",
    "filtered_2miles_df.to_csv('lsoa_stadiums_2miles_filled_gaps.csv', index=False)\n"
   ]
  }
 ],
 "metadata": {
  "kernelspec": {
   "display_name": ".venv",
   "language": "python",
   "name": "python3"
  },
  "language_info": {
   "codemirror_mode": {
    "name": "ipython",
    "version": 3
   },
   "file_extension": ".py",
   "mimetype": "text/x-python",
   "name": "python",
   "nbconvert_exporter": "python",
   "pygments_lexer": "ipython3",
   "version": "3.9.6"
  },
  "orig_nbformat": 4
 },
 "nbformat": 4,
 "nbformat_minor": 2
}
